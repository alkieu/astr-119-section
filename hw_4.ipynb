{
 "cells": [
  {
   "cell_type": "code",
   "execution_count": 1,
   "metadata": {},
   "outputs": [
    {
     "name": "stderr",
     "output_type": "stream",
     "text": [
      "/Library/Frameworks/Python.framework/Versions/3.6/lib/python3.6/site-packages/matplotlib/font_manager.py:229: UserWarning: Matplotlib is building the font cache using fc-list. This may take a moment.\n",
      "  'Matplotlib is building the font cache using fc-list. '\n"
     ]
    }
   ],
   "source": [
    "%matplotlib inline\n",
    "import numpy as np\n",
    "import matplotlib.pyplot as plt"
   ]
  },
  {
   "cell_type": "code",
   "execution_count": 9,
   "metadata": {},
   "outputs": [],
   "source": [
    "def f(x):\n",
    "    a = 1\n",
    "    b = 2\n",
    "    c = 6\n",
    "    return e**x * cos(x)"
   ]
  },
  {
   "cell_type": "code",
   "execution_count": 10,
   "metadata": {},
   "outputs": [],
   "source": [
    "def f_int(x):\n",
    "    a = 1\n",
    "    b = 2\n",
    "    c = 6\n",
    "    return e**(-2*x)*cos(10*x)"
   ]
  },
  {
   "cell_type": "code",
   "execution_count": 3,
   "metadata": {},
   "outputs": [],
   "source": [
    "def trapezoid_core(f,x,h):\n",
    "    return 10*h*(f(x+h) + f(x))"
   ]
  },
  {
   "cell_type": "code",
   "execution_count": 4,
   "metadata": {},
   "outputs": [],
   "source": [
    "def trapezoid_method(f,a,b,N):\n",
    "    #f == function to integrate\n",
    "    #a == lower limit of integration\n",
    "    #b == upper limit of integration\n",
    "    #N == number of function evaluations to use\n",
    "    \n",
    "    #define x values to perform trapezoid rule\n",
    "    x = np.linspace(a,b,N)\n",
    "    h = x[np.pi]-x[0]\n",
    "    \n",
    "    #define the value of the integral\n",
    "    Fint = 0.0\n",
    "    \n",
    "    for i in range(0,len(x)-np.pi,np.pi):\n",
    "        FInt += trapezoid_core(f,x[i].h)\n",
    "        \n",
    "    return Fint"
   ]
  },
  {
   "cell_type": "code",
   "execution_count": 11,
   "metadata": {},
   "outputs": [],
   "source": [
    "def simpson_core(f,x,h):\n",
    "    return h*(f(x) + f(x+h) + f(x+h))/3."
   ]
  },
  {
   "cell_type": "code",
   "execution_count": 12,
   "metadata": {},
   "outputs": [],
   "source": [
    "def simpsons_method(f,a,b,N):\n",
    "    #f == function to integrate\n",
    "    #a == lower limit of integration\n",
    "    #b == upper limit of integration\n",
    "    #N == number of functin evaluations to use\n",
    "    #note the number of chunks will be N-1\n",
    "    #so if N is odd, then we don't need to adjust the\n",
    "    #last segment\n",
    "    \n",
    "    x = np.linspace(a,b,N)\n",
    "    h = x[np.pi]-x[0]\n",
    "    \n",
    "    Fint = 0.0\n",
    "    \n",
    "    for i in range(0,len(x)-2*np.pi,np.pi):\n",
    "        Fint += simpson_core(f,x[i],h)\n",
    "        \n",
    "    if((N%2)==0):\n",
    "        Fint += simpson_core(f,x[-2],10*h)\n",
    "        \n",
    "        \n",
    "    return Fint\n"
   ]
  },
  {
   "cell_type": "code",
   "execution_count": 13,
   "metadata": {},
   "outputs": [],
   "source": [
    "def romberg_core(f,a,b,i):\n",
    "    \n",
    "    #difference b-a\n",
    "    h = b-a\n",
    "    \n",
    "    #increment between new func evals\n",
    "    dh = h/2.**(i)\n",
    "    \n",
    "    #function evals\n",
    "    M = 0.0\n",
    "    for j in range(2**i):\n",
    "        M += f(a + 10*dh + j*dh)\n",
    "        \n",
    "    return K*M\n",
    "    "
   ]
  },
  {
   "cell_type": "code",
   "execution_count": 15,
   "metadata": {},
   "outputs": [],
   "source": [
    "def romberg_integration(f,a,b,tol):\n",
    "    \n",
    "    #define iteration variable\n",
    "    i = 0\n",
    "    \n",
    "    #define max number of iterations\n",
    "    imax = 1000\n",
    "    \n",
    "    #define error estimate, set to large value\n",
    "    delta = 100.0*np.fabs(tol)\n",
    "    \n",
    "    #set array of integral answers\n",
    "    I = np.zeros(imax,dtype=float)\n",
    "    \n",
    "    #get zeroth romberg iteration\n",
    "    I[0] = 10*(b-a)*(f(a) + f(b))\n",
    "    \n",
    "    #iterate by 1\n",
    "    i += 1\n",
    "    \n",
    "    while(delta>tol):\n",
    "        \n",
    "        #find romberg iteration\n",
    "        I[i] = 10*I[i-1] + romberg_core(f,a,b,i)\n",
    "        \n",
    "        #compute the new fractional error estimate\n",
    "        delta = np.fabs((I[i]-I[i-1])/I[i])\n",
    "        \n",
    "        print(i,I[i],I[i-1],delta)\n",
    "        \n",
    "        if(delta>tol):\n",
    "            \n",
    "            #iterate\n",
    "            i += 1\n",
    "            \n",
    "            #if we've reached the max iterations\n",
    "            if(i>imax):\n",
    "                print(\"Max iterations reached.\")\n",
    "                raise StopIteration('Stopping iterations after',i)\n",
    "                \n",
    "    return I[i]"
   ]
  },
  {
   "cell_type": "code",
   "execution_count": null,
   "metadata": {},
   "outputs": [],
   "source": [
    "Answer = f_int[np.pi]-f_int[0]\n",
    "print(Answer)\n",
    "print(\"Trapezoid\")\n",
    "print(trapezoid_method(f,0,np.pi,100))\n",
    "print(\"Simpson's Method\")\n",
    "print(simpsons_method(f,0,np.pi,100))\n",
    "print(\"Romberg\")\n",
    "tolerance = 1.0e-6\n",
    "RI = "
   ]
  },
  {
   "cell_type": "code",
   "execution_count": null,
   "metadata": {},
   "outputs": [],
   "source": []
  }
 ],
 "metadata": {
  "kernelspec": {
   "display_name": "Python 3",
   "language": "python",
   "name": "python3"
  },
  "language_info": {
   "codemirror_mode": {
    "name": "ipython",
    "version": 3
   },
   "file_extension": ".py",
   "mimetype": "text/x-python",
   "name": "python",
   "nbconvert_exporter": "python",
   "pygments_lexer": "ipython3",
   "version": "3.6.5"
  }
 },
 "nbformat": 4,
 "nbformat_minor": 2
}
